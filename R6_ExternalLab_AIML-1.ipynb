{
 "cells": [
  {
   "cell_type": "markdown",
   "metadata": {
    "colab_type": "text",
    "id": "YYk8NG3yOIT9"
   },
   "source": [
    "### A MNIST-like fashion product database\n",
    "\n",
    "In this, we classify the images into respective classes given in the dataset. We use a Neural Net and a Deep Neural Net in Keras to solve this and check the accuracy scores."
   ]
  },
  {
   "cell_type": "markdown",
   "metadata": {
    "colab_type": "text",
    "id": "tFO6PuxzOIT_",
    "slideshow": {
     "slide_type": "slide"
    }
   },
   "source": [
    "### Load tensorflow"
   ]
  },
  {
   "cell_type": "code",
   "execution_count": 1,
   "metadata": {},
   "outputs": [],
   "source": [
    "import matplotlib"
   ]
  },
  {
   "cell_type": "code",
   "execution_count": 2,
   "metadata": {},
   "outputs": [],
   "source": [
    "import matplotlib.pyplot as plt"
   ]
  },
  {
   "cell_type": "code",
   "execution_count": 3,
   "metadata": {
    "colab": {},
    "colab_type": "code",
    "id": "efNjNImfOIUC"
   },
   "outputs": [],
   "source": [
    "import tensorflow as tf\n",
    "tf.set_random_seed(42)\n",
    "import numpy as np\n",
    "import pandas as pd"
   ]
  },
  {
   "cell_type": "code",
   "execution_count": 4,
   "metadata": {
    "colab": {},
    "colab_type": "code",
    "id": "l9C4aAIGOIUH",
    "outputId": "5ef9aff6-a7bd-4b26-cba6-8750955f6ca3"
   },
   "outputs": [
    {
     "data": {
      "text/plain": [
       "'1.12.0'"
      ]
     },
     "execution_count": 4,
     "metadata": {},
     "output_type": "execute_result"
    }
   ],
   "source": [
    "tf.__version__"
   ]
  },
  {
   "cell_type": "markdown",
   "metadata": {
    "colab_type": "text",
    "id": "HcoZBStrOIUQ",
    "slideshow": {
     "slide_type": "slide"
    }
   },
   "source": [
    "### Collect Data"
   ]
  },
  {
   "cell_type": "code",
   "execution_count": 5,
   "metadata": {
    "colab": {},
    "colab_type": "code",
    "id": "XA1WsFSeOIUS"
   },
   "outputs": [
    {
     "name": "stderr",
     "output_type": "stream",
     "text": [
      "Using TensorFlow backend.\n"
     ]
    }
   ],
   "source": [
    "import keras"
   ]
  },
  {
   "cell_type": "code",
   "execution_count": 8,
   "metadata": {
    "colab": {},
    "colab_type": "code",
    "id": "qnbx7TyQOIUY"
   },
   "outputs": [],
   "source": [
    "from keras.datasets import fashion_mnist\n",
    "(trainX, trainY), (testX, testY) = keras.datasets.fashion_mnist.load_data()"
   ]
  },
  {
   "cell_type": "code",
   "execution_count": 9,
   "metadata": {},
   "outputs": [],
   "source": [
    "# including the class name \n",
    "class_names = ['T-shirt/top', 'Trouser', 'Pullover', 'Dress', 'Coat', \n",
    "               'Sandal', 'Shirt', 'Sneaker', 'Bag', 'Ankle boot']\n"
   ]
  },
  {
   "cell_type": "code",
   "execution_count": 10,
   "metadata": {},
   "outputs": [
    {
     "data": {
      "text/plain": [
       "(10000, 28, 28)"
      ]
     },
     "execution_count": 10,
     "metadata": {},
     "output_type": "execute_result"
    }
   ],
   "source": [
    "# Seeing the observation of feature set in test & train data\n",
    "\n",
    "trainX.shape\n",
    "testX.shape"
   ]
  },
  {
   "cell_type": "code",
   "execution_count": 11,
   "metadata": {},
   "outputs": [
    {
     "data": {
      "text/plain": [
       "(10000,)"
      ]
     },
     "execution_count": 11,
     "metadata": {},
     "output_type": "execute_result"
    }
   ],
   "source": [
    "# Seeing the obseravtion in label data- test & train\n",
    "\n",
    "trainY.shape\n",
    "testY.shape"
   ]
  },
  {
   "cell_type": "code",
   "execution_count": 12,
   "metadata": {
    "colab": {},
    "colab_type": "code",
    "id": "UbiHj5YPOIUc",
    "outputId": "87e1b9cd-07f0-45cb-e706-0d51ad742d72",
    "slideshow": {
     "slide_type": "fragment"
    }
   },
   "outputs": [
    {
     "name": "stdout",
     "output_type": "stream",
     "text": [
      "[9 2 1 1 6]\n"
     ]
    }
   ],
   "source": [
    "print(testY[0:5])"
   ]
  },
  {
   "cell_type": "markdown",
   "metadata": {
    "colab_type": "text",
    "id": "lDAYzkwyOIUj",
    "slideshow": {
     "slide_type": "slide"
    }
   },
   "source": [
    "### Convert both training and testing labels into one-hot vectors.\n",
    "\n",
    "**Hint:** check **tf.keras.utils.to_categorical()**"
   ]
  },
  {
   "cell_type": "code",
   "execution_count": 13,
   "metadata": {},
   "outputs": [],
   "source": [
    "trainY1 = tf.keras.utils.to_categorical(trainY, num_classes=10)\n",
    "testY1 = tf.keras.utils.to_categorical(testY, num_classes=10)"
   ]
  },
  {
   "cell_type": "code",
   "execution_count": 14,
   "metadata": {},
   "outputs": [
    {
     "name": "stdout",
     "output_type": "stream",
     "text": [
      "(60000, 10)\n",
      "First 5 examples now are:  [[0. 0. 0. 0. 0. 0. 0. 0. 0. 1.]\n",
      " [1. 0. 0. 0. 0. 0. 0. 0. 0. 0.]\n",
      " [1. 0. 0. 0. 0. 0. 0. 0. 0. 0.]\n",
      " [0. 0. 0. 1. 0. 0. 0. 0. 0. 0.]\n",
      " [1. 0. 0. 0. 0. 0. 0. 0. 0. 0.]]\n"
     ]
    }
   ],
   "source": [
    "print(trainY1.shape)\n",
    "print('First 5 examples now are: ', trainY1[0:5])\n"
   ]
  },
  {
   "cell_type": "code",
   "execution_count": 15,
   "metadata": {},
   "outputs": [],
   "source": [
    "# Scaling TrainX & TestX to a range between '0' & '1'\n",
    "\n",
    "trainX1 = trainX / 255.0\n",
    "\n",
    "testX1 = testX / 255.0\n"
   ]
  },
  {
   "cell_type": "markdown",
   "metadata": {
    "colab_type": "text",
    "id": "FwhQ8e7VOIUw"
   },
   "source": [
    "### Visualize the data\n",
    "\n",
    "Plot first 10 images in the triaining set and their labels."
   ]
  },
  {
   "cell_type": "code",
   "execution_count": 39,
   "metadata": {},
   "outputs": [
    {
     "data": {
      "image/png": "[encoded data removed]",
      "text/plain": [
       "<Figure size 720x720 with 10 Axes>"
      ]
     },
     "metadata": {},
     "output_type": "display_data"
    }
   ],
   "source": [
    "from matplotlib import pyplot as plt\n",
    "from PIL import Image\n",
    "\n",
    "plt.figure(figsize=(10,10))\n",
    "for i in range(10):\n",
    "    plt.subplot(5,5,i+1)\n",
    "    plt.xticks([])\n",
    "    plt.yticks([])\n",
    "    plt.grid(False)\n",
    "    plt.imshow(trainX1[i], cmap=plt.cm.binary)\n",
    "    plt.xlabel(class_names[trainY[i]])\n",
    "plt.show()            "
   ]
  },
  {
   "cell_type": "markdown",
   "metadata": {
    "colab_type": "text",
    "id": "l4TbJGeSOIU4",
    "slideshow": {
     "slide_type": "slide"
    }
   },
   "source": [
    "### Build a neural Network with a cross entropy loss function and sgd optimizer in Keras. The output layer with 10 neurons as we have 10 classes."
   ]
  },
  {
   "cell_type": "code",
   "execution_count": 18,
   "metadata": {
    "colab": {},
    "colab_type": "code",
    "id": "Ac06XZZTOIU6"
   },
   "outputs": [],
   "source": [
    "#Initialize Sequential model\n",
    "model = tf.keras.models.Sequential()\n",
    "\n",
    "#Reshape data from 2D to 1D -> 28x28 to 784\n",
    "model.add(tf.keras.layers.Reshape((784,),input_shape=(28,28,)))\n",
    "\n",
    "#\n",
    "#Add Dense Layer which provides 10 Outputs after applying softmax\n",
    "model.add(tf.keras.layers.Dense(10, activation='softmax'))\n"
   ]
  },
  {
   "cell_type": "code",
   "execution_count": 19,
   "metadata": {},
   "outputs": [],
   "source": [
    "#Compile the model ((We will learn about optimizers it in the next residency))\n",
    "model.compile(optimizer='sgd', loss='categorical_crossentropy', metrics=['accuracy'])"
   ]
  },
  {
   "cell_type": "markdown",
   "metadata": {
    "colab_type": "text",
    "id": "3hQpLv3aOIU_",
    "slideshow": {
     "slide_type": "slide"
    }
   },
   "source": [
    "### Execute the model using model.fit()"
   ]
  },
  {
   "cell_type": "code",
   "execution_count": 20,
   "metadata": {
    "colab": {},
    "colab_type": "code",
    "id": "O59C_-IgOIVB"
   },
   "outputs": [
    {
     "name": "stdout",
     "output_type": "stream",
     "text": [
      "Train on 60000 samples, validate on 10000 samples\n",
      "Epoch 1/10\n",
      "60000/60000 [==============================] - 6s 97us/step - loss: 0.6543 - acc: 0.7868 - val_loss: 0.5502 - val_acc: 0.8143\n",
      "Epoch 2/10\n",
      "60000/60000 [==============================] - 6s 93us/step - loss: 0.5033 - acc: 0.8299 - val_loss: 0.5231 - val_acc: 0.8174\n",
      "Epoch 3/10\n",
      "60000/60000 [==============================] - 7s 115us/step - loss: 0.4723 - acc: 0.8398 - val_loss: 0.4892 - val_acc: 0.8309\n",
      "Epoch 4/10\n",
      "60000/60000 [==============================] - 6s 93us/step - loss: 0.4558 - acc: 0.8455 - val_loss: 0.4839 - val_acc: 0.8299\n",
      "Epoch 5/10\n",
      "60000/60000 [==============================] - 6s 103us/step - loss: 0.4453 - acc: 0.8479 - val_loss: 0.4740 - val_acc: 0.8337\n",
      "Epoch 6/10\n",
      "60000/60000 [==============================] - 6s 98us/step - loss: 0.4376 - acc: 0.8507 - val_loss: 0.4817 - val_acc: 0.8282\n",
      "Epoch 7/10\n",
      "60000/60000 [==============================] - 6s 95us/step - loss: 0.4315 - acc: 0.8520 - val_loss: 0.4669 - val_acc: 0.8363\n",
      "Epoch 8/10\n",
      "60000/60000 [==============================] - 7s 109us/step - loss: 0.4264 - acc: 0.8539 - val_loss: 0.4581 - val_acc: 0.8389\n",
      "Epoch 9/10\n",
      "60000/60000 [==============================] - 6s 96us/step - loss: 0.4222 - acc: 0.8554 - val_loss: 0.4577 - val_acc: 0.8412\n",
      "Epoch 10/10\n",
      "60000/60000 [==============================] - 6s 97us/step - loss: 0.4190 - acc: 0.8566 - val_loss: 0.4629 - val_acc: 0.8383\n"
     ]
    },
    {
     "data": {
      "text/plain": [
       "<tensorflow.python.keras.callbacks.History at 0xe21f470>"
      ]
     },
     "execution_count": 20,
     "metadata": {},
     "output_type": "execute_result"
    }
   ],
   "source": [
    "# Model fit\n",
    "model.fit(trainX1, trainY1, validation_data=(testX1, testY1), epochs=10,batch_size=10)"
   ]
  },
  {
   "cell_type": "markdown",
   "metadata": {
    "colab_type": "text",
    "id": "JdzDtGwDOIVF",
    "slideshow": {
     "slide_type": "slide"
    }
   },
   "source": [
    "### In the above Neural Network model, add Batch Normalization layer after the input layer and repeat the steps."
   ]
  },
  {
   "cell_type": "code",
   "execution_count": 22,
   "metadata": {
    "colab": {},
    "colab_type": "code",
    "id": "kndfpdidOIVI"
   },
   "outputs": [],
   "source": [
    "#Initialize Sequential model\n",
    "model = tf.keras.models.Sequential()\n",
    "\n",
    "#Reshape data from 2D to 1D -> 28x28 to 784\n",
    "model.add(tf.keras.layers.Reshape((784,),input_shape=(28,28,)))\n",
    "\n",
    "#Normalize the data\n",
    "model.add(tf.keras.layers.BatchNormalization())\n",
    "\n",
    "#Add Dense Layer which provides 10 Outputs after applying softmax\n",
    "model.add(tf.keras.layers.Dense(10, activation='softmax'))\n"
   ]
  },
  {
   "cell_type": "code",
   "execution_count": 23,
   "metadata": {},
   "outputs": [],
   "source": [
    "#Compile the model \n",
    "model.compile(optimizer='sgd', loss='categorical_crossentropy', metrics=['accuracy'])"
   ]
  },
  {
   "cell_type": "markdown",
   "metadata": {
    "colab_type": "text",
    "id": "mwk3T5LJOIVN",
    "slideshow": {
     "slide_type": "slide"
    }
   },
   "source": [
    "### Execute the model"
   ]
  },
  {
   "cell_type": "code",
   "execution_count": 24,
   "metadata": {
    "colab": {},
    "colab_type": "code",
    "id": "JNLR8tcBOIVP"
   },
   "outputs": [
    {
     "name": "stdout",
     "output_type": "stream",
     "text": [
      "Train on 60000 samples, validate on 10000 samples\n",
      "Epoch 1/10\n",
      "60000/60000 [==============================] - 8s 136us/step - loss: 0.6115 - acc: 0.7901 - val_loss: 0.5250 - val_acc: 0.8201\n",
      "Epoch 2/10\n",
      "60000/60000 [==============================] - 9s 142us/step - loss: 0.5442 - acc: 0.8120 - val_loss: 0.4942 - val_acc: 0.8359\n",
      "Epoch 3/10\n",
      "60000/60000 [==============================] - 8s 133us/step - loss: 0.5312 - acc: 0.8161 - val_loss: 0.5007 - val_acc: 0.8348\n",
      "Epoch 4/10\n",
      "60000/60000 [==============================] - 9s 143us/step - loss: 0.5252 - acc: 0.8184 - val_loss: 0.4908 - val_acc: 0.8330\n",
      "Epoch 5/10\n",
      "60000/60000 [==============================] - 8s 135us/step - loss: 0.5193 - acc: 0.8205 - val_loss: 0.4840 - val_acc: 0.8370\n",
      "Epoch 6/10\n",
      "60000/60000 [==============================] - 9s 144us/step - loss: 0.5157 - acc: 0.8215 - val_loss: 0.5060 - val_acc: 0.8335\n",
      "Epoch 7/10\n",
      "60000/60000 [==============================] - 9s 155us/step - loss: 0.5159 - acc: 0.8216 - val_loss: 0.5038 - val_acc: 0.8321\n",
      "Epoch 8/10\n",
      "60000/60000 [==============================] - 8s 141us/step - loss: 0.5112 - acc: 0.8208 - val_loss: 0.4944 - val_acc: 0.8372\n",
      "Epoch 9/10\n",
      "60000/60000 [==============================] - 9s 142us/step - loss: 0.5091 - acc: 0.8243 - val_loss: 0.4932 - val_acc: 0.8319\n",
      "Epoch 10/10\n",
      "60000/60000 [==============================] - 8s 135us/step - loss: 0.5097 - acc: 0.8239 - val_loss: 0.4979 - val_acc: 0.8284\n"
     ]
    },
    {
     "data": {
      "text/plain": [
       "<tensorflow.python.keras.callbacks.History at 0xde62518>"
      ]
     },
     "execution_count": 24,
     "metadata": {},
     "output_type": "execute_result"
    }
   ],
   "source": [
    "model.fit(trainX1, trainY1, validation_data=(testX1, testY1), epochs=10, batch_size=10)"
   ]
  },
  {
   "cell_type": "markdown",
   "metadata": {
    "colab_type": "text",
    "id": "Py-KwkmjOIVU"
   },
   "source": [
    "### Customize the learning rate to 0.001 in sgd optimizer and run the model"
   ]
  },
  {
   "cell_type": "code",
   "execution_count": 73,
   "metadata": {
    "colab": {},
    "colab_type": "code",
    "id": "yLXUE9jWOIVV"
   },
   "outputs": [],
   "source": [
    "sdg= keras.optimizers.SGD(lr=0.001, momentum=0.0, decay=0.0, nesterov=False)"
   ]
  },
  {
   "cell_type": "code",
   "execution_count": 74,
   "metadata": {},
   "outputs": [],
   "source": [
    "#Compile the model ((We will learn about optimizers it in the next residency))\n",
    "model.compile(optimizer='sgd', loss='categorical_crossentropy', metrics=['accuracy'])"
   ]
  },
  {
   "cell_type": "code",
   "execution_count": 54,
   "metadata": {
    "colab": {},
    "colab_type": "code",
    "id": "pJUqA5T4OIVc"
   },
   "outputs": [
    {
     "name": "stdout",
     "output_type": "stream",
     "text": [
      "Train on 60000 samples, validate on 10000 samples\n",
      "Epoch 1/10\n",
      "60000/60000 [==============================] - 9s 158us/step - loss: 0.4921 - acc: 0.8283 - val_loss: 0.5038 - val_acc: 0.8387\n",
      "Epoch 2/10\n",
      "60000/60000 [==============================] - 9s 151us/step - loss: 0.4911 - acc: 0.8284 - val_loss: 0.5064 - val_acc: 0.8369\n",
      "Epoch 3/10\n",
      "60000/60000 [==============================] - 8s 136us/step - loss: 0.4892 - acc: 0.8295 - val_loss: 0.5197 - val_acc: 0.8270\n",
      "Epoch 4/10\n",
      "60000/60000 [==============================] - 8s 137us/step - loss: 0.4913 - acc: 0.8262 - val_loss: 0.4940 - val_acc: 0.8391\n",
      "Epoch 5/10\n",
      "60000/60000 [==============================] - 9s 143us/step - loss: 0.4909 - acc: 0.8297 - val_loss: 0.4985 - val_acc: 0.8365\n",
      "Epoch 6/10\n",
      "60000/60000 [==============================] - 9s 143us/step - loss: 0.4918 - acc: 0.8289 - val_loss: 0.5044 - val_acc: 0.8374\n",
      "Epoch 7/10\n",
      "60000/60000 [==============================] - 9s 144us/step - loss: 0.4884 - acc: 0.8296 - val_loss: 0.5030 - val_acc: 0.8320\n",
      "Epoch 8/10\n",
      "60000/60000 [==============================] - 9s 146us/step - loss: 0.4899 - acc: 0.8282 - val_loss: 0.4937 - val_acc: 0.8367\n",
      "Epoch 9/10\n",
      "60000/60000 [==============================] - 9s 143us/step - loss: 0.4927 - acc: 0.8270 - val_loss: 0.4954 - val_acc: 0.8367\n",
      "Epoch 10/10\n",
      "60000/60000 [==============================] - 8s 135us/step - loss: 0.4841 - acc: 0.8304 - val_loss: 0.5081 - val_acc: 0.8327\n"
     ]
    },
    {
     "data": {
      "text/plain": [
       "<tensorflow.python.keras.callbacks.History at 0x169ab438>"
      ]
     },
     "execution_count": 54,
     "metadata": {},
     "output_type": "execute_result"
    }
   ],
   "source": [
    "# running model\n",
    "model.fit(trainX1, trainY1, validation_data=(testX1, testY1), epochs=10, batch_size=10)"
   ]
  },
  {
   "cell_type": "markdown",
   "metadata": {
    "colab_type": "text",
    "id": "j9CSqKvpOIVk",
    "slideshow": {
     "slide_type": "slide"
    }
   },
   "source": [
    "### Build the Neural Network model with 3 Dense layers with 100,100,10 neurons respectively in each layer. Use cross entropy loss function and singmoid as activation in the hidden layers and softmax as activation function in the output layer. Use sgd optimizer with learning rate 0.03."
   ]
  },
  {
   "cell_type": "code",
   "execution_count": 25,
   "metadata": {
    "colab": {},
    "colab_type": "code",
    "id": "GGAad54JOIVm"
   },
   "outputs": [],
   "source": [
    "# Importing Keras & corresponding packages\n",
    "from keras.layers import Dense"
   ]
  },
  {
   "cell_type": "code",
   "execution_count": 26,
   "metadata": {
    "colab": {},
    "colab_type": "code",
    "id": "MQ7oIymROIVp"
   },
   "outputs": [],
   "source": [
    "#Initialize Sequential model\n",
    "model = tf.keras.models.Sequential()\n",
    "\n",
    "#Reshape data from 2D to 1D -> 28x28 to 784\n",
    "model.add(tf.keras.layers.Reshape((784,),input_shape=(28,28,)))\n",
    "\n",
    "\n",
    "# Initializing Neural net & setting up the parameters for its layer\n",
    "\n",
    "# Creating the first hidden layer\n",
    "model.add(tf.keras.layers.Dense(100, activation = 'sigmoid'))\n",
    "\n",
    "# Creating the second hidden layer\n",
    "model.add(tf.keras.layers.Dense(100, activation = 'sigmoid'))\n",
    "\n",
    "#Add Dense Layer which provides 10 Outputs after applying softmax\n",
    "model.add(tf.keras.layers.Dense(10, activation='softmax'))"
   ]
  },
  {
   "cell_type": "code",
   "execution_count": 27,
   "metadata": {},
   "outputs": [],
   "source": [
    "##sgd  optimize with sgd optimizer having learning rate 0.03\n",
    "sgd = keras.optimizers.SGD(lr=0.03, momentum=0.0, decay=0.0, nesterov=False)"
   ]
  },
  {
   "cell_type": "code",
   "execution_count": 28,
   "metadata": {
    "colab": {},
    "colab_type": "code",
    "id": "X-O-fFxnOIVt"
   },
   "outputs": [],
   "source": [
    "#Compiling the NN using 'sgd' optimizer\n",
    "model.compile(optimizer='sgd', loss = 'categorical_crossentropy', metrics=['accuracy'])"
   ]
  },
  {
   "cell_type": "markdown",
   "metadata": {
    "colab_type": "text",
    "id": "gfFGmbZLOIV5",
    "slideshow": {
     "slide_type": "slide"
    }
   },
   "source": [
    "### Run the model"
   ]
  },
  {
   "cell_type": "code",
   "execution_count": 29,
   "metadata": {
    "colab": {},
    "colab_type": "code",
    "id": "BiP7IL52OIVw"
   },
   "outputs": [
    {
     "name": "stdout",
     "output_type": "stream",
     "text": [
      "Train on 60000 samples, validate on 10000 samples\n",
      "Epoch 1/10\n",
      "60000/60000 [==============================] - 11s 185us/step - loss: 1.4436 - acc: 0.5457 - val_loss: 0.8962 - val_acc: 0.7015\n",
      "Epoch 2/10\n",
      "60000/60000 [==============================] - 11s 179us/step - loss: 0.7422 - acc: 0.7431 - val_loss: 0.6683 - val_acc: 0.7598\n",
      "Epoch 3/10\n",
      "60000/60000 [==============================] - 10s 172us/step - loss: 0.6070 - acc: 0.7774 - val_loss: 0.5918 - val_acc: 0.7813\n",
      "Epoch 4/10\n",
      "60000/60000 [==============================] - 12s 203us/step - loss: 0.5462 - acc: 0.8018 - val_loss: 0.5506 - val_acc: 0.7993\n",
      "Epoch 5/10\n",
      "60000/60000 [==============================] - 12s 203us/step - loss: 0.5089 - acc: 0.8167 - val_loss: 0.5191 - val_acc: 0.8135\n",
      "Epoch 6/10\n",
      "60000/60000 [==============================] - 11s 189us/step - loss: 0.4821 - acc: 0.8273 - val_loss: 0.5013 - val_acc: 0.8185\n",
      "Epoch 7/10\n",
      "60000/60000 [==============================] - 11s 182us/step - loss: 0.4620 - acc: 0.8354 - val_loss: 0.4828 - val_acc: 0.8269\n",
      "Epoch 8/10\n",
      "60000/60000 [==============================] - 13s 213us/step - loss: 0.4459 - acc: 0.8412 - val_loss: 0.4760 - val_acc: 0.8297\n",
      "Epoch 9/10\n",
      "60000/60000 [==============================] - 12s 206us/step - loss: 0.4323 - acc: 0.8458 - val_loss: 0.4594 - val_acc: 0.8334\n",
      "Epoch 10/10\n",
      "60000/60000 [==============================] - 13s 215us/step - loss: 0.4212 - acc: 0.8503 - val_loss: 0.4696 - val_acc: 0.8303\n"
     ]
    },
    {
     "data": {
      "text/plain": [
       "<tensorflow.python.keras.callbacks.History at 0x127fddd8>"
      ]
     },
     "execution_count": 29,
     "metadata": {},
     "output_type": "execute_result"
    }
   ],
   "source": [
    "# Running model\n",
    "model.fit(trainX1, trainY1, validation_data=(testX1, testY1), epochs=10, batch_size=10)"
   ]
  },
  {
   "cell_type": "markdown",
   "metadata": {
    "colab_type": "text",
    "id": "Nr2YsZV0OIV0",
    "slideshow": {
     "slide_type": "slide"
    }
   },
   "source": [
    "## Review model"
   ]
  },
  {
   "cell_type": "code",
   "execution_count": 30,
   "metadata": {
    "colab": {},
    "colab_type": "code",
    "id": "h4ojW6-oOIV2"
   },
   "outputs": [
    {
     "name": "stdout",
     "output_type": "stream",
     "text": [
      "[2.0754647e-05 8.8981251e-06 9.9420140e-05 1.5800141e-04 3.5817934e-06\n",
      " 1.0698847e-01 6.0280809e-06 1.8024017e-01 4.0841307e-03 7.0839053e-01]\n",
      "9\n",
      "9\n"
     ]
    },
    {
     "data": {
      "text/plain": [
       "'Ankle boot'"
      ]
     },
     "execution_count": 30,
     "metadata": {},
     "output_type": "execute_result"
    }
   ],
   "source": [
    "# From the above model, it is visible that model accuracy is 85% \n",
    "\n",
    "\n",
    "#Prediction using the above model \n",
    "predictions = model.predict(testX1)\n",
    "\n",
    "# Prediction related with first record. \n",
    "print(predictions[0])\n",
    "\n",
    "\n",
    "# Here the best prediction will be the highest value. Let's check that\n",
    "print(np.argmax(predictions[0]))\n",
    "# Highest value is coming as 9 \n",
    "\n",
    "\n",
    "#Testing what is the actual label\n",
    "print (testY[0])\n",
    "# Actual label is 9\n",
    "\n",
    "# Lets print the actual class name corresponding to label\n",
    "class_names[9]\n",
    "\n",
    "#So this image is realted with ankel boot"
   ]
  }
 ],
 "metadata": {
  "colab": {
   "name": "Classification_F-MNIST.ipynb",
   "provenance": [],
   "version": "0.3.2"
  },
  "kernelspec": {
   "display_name": "Python 3",
   "language": "python",
   "name": "python3"
  },
  "language_info": {
   "codemirror_mode": {
    "name": "ipython",
    "version": 3
   },
   "file_extension": ".py",
   "mimetype": "text/x-python",
   "name": "python",
   "nbconvert_exporter": "python",
   "pygments_lexer": "ipython3",
   "version": "3.6.6"
  }
 },
 "nbformat": 4,
 "nbformat_minor": 1
}
